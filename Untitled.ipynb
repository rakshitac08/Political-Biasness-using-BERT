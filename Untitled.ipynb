{
 "cells": [
  {
   "cell_type": "code",
   "execution_count": 27,
   "id": "559c9ea0-76c1-4ede-97b3-c738e2e5f601",
   "metadata": {},
   "outputs": [],
   "source": [
    "import pandas as pd\n",
    "from datasets import Dataset\n",
    "\n",
    "# STEP 1: Load and clean text + labels\n",
    "df = pd.read_csv(\"./data/Final_Data_Article_Annotation.csv\", encoding=\"latin1\")\n",
    "df.rename(columns={df.columns[0]: 'text', df.columns[1]: 'label'}, inplace=True)\n",
    "df = df[['text', 'label']].dropna()\n",
    "\n",
    "# STEP 2: Convert all labels to clean string format\n",
    "df['label'] = df['label'].astype(str).str.strip().str.lower()\n",
    "\n",
    "# STEP 3: Normalize known label values\n",
    "df['label'] = df['label'].replace({\n",
    "    'bjp': 'bjp',\n",
    "    'aap': 'aap',\n",
    "    'congress': 'congress',\n",
    "    'none': 'none', \n",
    "    'nan': 'none',   # handle unexpected strings or blanks\n",
    "    '': 'none'\n",
    "})\n",
    "\n",
    "# STEP 4: Map to integers\n",
    "label_map = {'bjp': 0, 'aap': 1, 'congress': 2, 'none': 3}\n",
    "df['label'] = df['label'].map(label_map)\n",
    "\n",
    "# STEP 5: Drop any unmapped labels (still NaN after mapping)\n",
    "df = df.dropna(subset=['label'])\n",
    "df['label'] = df['label'].astype(int)\n",
    "dataset = Dataset.from_pandas(df)\n"
   ]
  },
  {
   "cell_type": "code",
   "execution_count": 29,
   "id": "6a389680-0aa1-44c1-8f3a-9518866e3c41",
   "metadata": {},
   "outputs": [
    {
     "data": {
      "application/vnd.jupyter.widget-view+json": {
       "model_id": "1fe24c98f2bc4e489112055e8d248da4",
       "version_major": 2,
       "version_minor": 0
      },
      "text/plain": [
       "Map:   0%|          | 0/513 [00:00<?, ? examples/s]"
      ]
     },
     "metadata": {},
     "output_type": "display_data"
    }
   ],
   "source": [
    "from transformers import BertTokenizer\n",
    "\n",
    "tokenizer = BertTokenizer.from_pretrained(\"bert-base-uncased\")\n",
    "def tokenize(example): return tokenizer(example['text'], padding=\"max_length\", truncation=True)\n",
    "\n",
    "tokenized_dataset = dataset.map(tokenize, batched=True)\n",
    "split_dataset = tokenized_dataset.train_test_split(test_size=0.2)\n",
    "train_dataset = split_dataset[\"train\"]\n",
    "test_dataset = split_dataset[\"test\"]"
   ]
  },
  {
   "cell_type": "code",
   "execution_count": 30,
   "id": "5f443a56-6bc1-4461-b41e-107ad594835b",
   "metadata": {},
   "outputs": [
    {
     "name": "stderr",
     "output_type": "stream",
     "text": [
      "Some weights of BertForSequenceClassification were not initialized from the model checkpoint at bert-base-uncased and are newly initialized: ['classifier.bias', 'classifier.weight']\n",
      "You should probably TRAIN this model on a down-stream task to be able to use it for predictions and inference.\n",
      "C:\\Users\\Anisha\\AppData\\Local\\Temp\\ipykernel_28976\\3274697071.py:27: FutureWarning: `tokenizer` is deprecated and will be removed in version 5.0.0 for `Trainer.__init__`. Use `processing_class` instead.\n",
      "  trainer = Trainer(\n"
     ]
    }
   ],
   "source": [
    "from transformers import BertForSequenceClassification, Trainer, TrainingArguments\n",
    "from sklearn.metrics import accuracy_score, precision_recall_fscore_support\n",
    "\n",
    "model = BertForSequenceClassification.from_pretrained(\"bert-base-uncased\", num_labels=len(label_map))\n",
    "\n",
    "def compute_metrics(eval_pred):\n",
    "    logits, labels = eval_pred\n",
    "    predictions = logits.argmax(axis=-1)\n",
    "    precision, recall, f1, _ = precision_recall_fscore_support(labels, predictions, average='weighted')\n",
    "    acc = accuracy_score(labels, predictions)\n",
    "    return {'accuracy': acc, 'f1': f1, 'precision': precision, 'recall': recall}\n",
    "\n",
    "training_args = TrainingArguments(\n",
    "    output_dir=\"./results\",\n",
    "    eval_strategy=\"epoch\", \n",
    "    save_strategy=\"epoch\",\n",
    "    learning_rate=2e-5,\n",
    "    per_device_train_batch_size=8,\n",
    "    per_device_eval_batch_size=8,\n",
    "    num_train_epochs=7,\n",
    "    weight_decay=0.01,\n",
    "    logging_dir=\"./logs\",\n",
    "    load_best_model_at_end=True,\n",
    ")\n",
    "\n",
    "\n",
    "trainer = Trainer(\n",
    "    model=model,\n",
    "    args=training_args,\n",
    "    train_dataset=train_dataset,\n",
    "    eval_dataset=test_dataset,\n",
    "    tokenizer=tokenizer,\n",
    "    compute_metrics=compute_metrics\n",
    ")"
   ]
  },
  {
   "cell_type": "code",
   "execution_count": 33,
   "id": "e63ad0dc-1a57-4fdd-82f8-214845401122",
   "metadata": {},
   "outputs": [
    {
     "data": {
      "text/html": [
       "\n",
       "    <div>\n",
       "      \n",
       "      <progress value='364' max='364' style='width:300px; height:20px; vertical-align: middle;'></progress>\n",
       "      [364/364 2:01:30, Epoch 7/7]\n",
       "    </div>\n",
       "    <table border=\"1\" class=\"dataframe\">\n",
       "  <thead>\n",
       " <tr style=\"text-align: left;\">\n",
       "      <th>Epoch</th>\n",
       "      <th>Training Loss</th>\n",
       "      <th>Validation Loss</th>\n",
       "      <th>Accuracy</th>\n",
       "      <th>F1</th>\n",
       "      <th>Precision</th>\n",
       "      <th>Recall</th>\n",
       "    </tr>\n",
       "  </thead>\n",
       "  <tbody>\n",
       "    <tr>\n",
       "      <td>1</td>\n",
       "      <td>No log</td>\n",
       "      <td>0.636811</td>\n",
       "      <td>0.825243</td>\n",
       "      <td>0.843876</td>\n",
       "      <td>0.890425</td>\n",
       "      <td>0.825243</td>\n",
       "    </tr>\n",
       "    <tr>\n",
       "      <td>2</td>\n",
       "      <td>No log</td>\n",
       "      <td>0.268425</td>\n",
       "      <td>0.961165</td>\n",
       "      <td>0.960847</td>\n",
       "      <td>0.961711</td>\n",
       "      <td>0.961165</td>\n",
       "    </tr>\n",
       "    <tr>\n",
       "      <td>3</td>\n",
       "      <td>No log</td>\n",
       "      <td>0.239911</td>\n",
       "      <td>0.902913</td>\n",
       "      <td>0.909737</td>\n",
       "      <td>0.925817</td>\n",
       "      <td>0.902913</td>\n",
       "    </tr>\n",
       "    <tr>\n",
       "      <td>4</td>\n",
       "      <td>No log</td>\n",
       "      <td>0.287844</td>\n",
       "      <td>0.873786</td>\n",
       "      <td>0.879465</td>\n",
       "      <td>0.905527</td>\n",
       "      <td>0.873786</td>\n",
       "    </tr>\n",
       "    <tr>\n",
       "      <td>5</td>\n",
       "      <td>No log</td>\n",
       "      <td>0.274300</td>\n",
       "      <td>0.893204</td>\n",
       "      <td>0.901555</td>\n",
       "      <td>0.925580</td>\n",
       "      <td>0.893204</td>\n",
       "    </tr>\n",
       "    <tr>\n",
       "      <td>6</td>\n",
       "      <td>No log</td>\n",
       "      <td>0.354590</td>\n",
       "      <td>0.864078</td>\n",
       "      <td>0.871387</td>\n",
       "      <td>0.902692</td>\n",
       "      <td>0.864078</td>\n",
       "    </tr>\n",
       "    <tr>\n",
       "      <td>7</td>\n",
       "      <td>No log</td>\n",
       "      <td>0.423623</td>\n",
       "      <td>0.844660</td>\n",
       "      <td>0.851375</td>\n",
       "      <td>0.889294</td>\n",
       "      <td>0.844660</td>\n",
       "    </tr>\n",
       "  </tbody>\n",
       "</table><p>"
      ],
      "text/plain": [
       "<IPython.core.display.HTML object>"
      ]
     },
     "metadata": {},
     "output_type": "display_data"
    },
    {
     "data": {
      "text/html": [],
      "text/plain": [
       "<IPython.core.display.HTML object>"
      ]
     },
     "metadata": {},
     "output_type": "display_data"
    },
    {
     "name": "stdout",
     "output_type": "stream",
     "text": [
      "Final Evaluation: {'eval_loss': 0.239911288022995, 'eval_accuracy': 0.9029126213592233, 'eval_f1': 0.9097371521506553, 'eval_precision': 0.9258166035872962, 'eval_recall': 0.9029126213592233, 'eval_runtime': 80.7438, 'eval_samples_per_second': 1.276, 'eval_steps_per_second': 0.161, 'epoch': 7.0}\n"
     ]
    }
   ],
   "source": [
    "trainer.train()\n",
    "eval_results = trainer.evaluate()\n",
    "print(\"Final Evaluation:\", eval_results)"
   ]
  },
  {
   "cell_type": "code",
   "execution_count": 35,
   "id": "62f26bf3-584e-461e-8df4-64d61457cba8",
   "metadata": {},
   "outputs": [
    {
     "data": {
      "text/plain": [
       "('./finalmodel\\\\tokenizer_config.json',\n",
       " './finalmodel\\\\special_tokens_map.json',\n",
       " './finalmodel\\\\vocab.txt',\n",
       " './finalmodel\\\\added_tokens.json')"
      ]
     },
     "execution_count": 35,
     "metadata": {},
     "output_type": "execute_result"
    }
   ],
   "source": [
    "model.save_pretrained(\"./finalmodel\")\n",
    "tokenizer.save_pretrained(\"./finalmodel\")"
   ]
  },
  {
   "cell_type": "code",
   "execution_count": 37,
   "id": "a95db4c3-7d80-41e0-a26e-be9e4389b835",
   "metadata": {},
   "outputs": [],
   "source": [
    "from sklearn.metrics import roc_curve, auc\n",
    "from sklearn.preprocessing import label_binarize\n",
    "import matplotlib.pyplot as plt\n",
    "import numpy as np"
   ]
  },
  {
   "cell_type": "code",
   "execution_count": 39,
   "id": "b79b9ed4-848b-476b-8417-87448d4fd03c",
   "metadata": {},
   "outputs": [],
   "source": [
    "# Get predictions on test dataset\n",
    "predictions = trainer.predict(test_dataset)\n",
    "\n",
    "y_true = predictions.label_ids\n",
    "y_score = predictions.predictions  # logits"
   ]
  },
  {
   "cell_type": "code",
   "execution_count": 41,
   "id": "4a1d0922-06ab-4be6-afc9-ca3327079aad",
   "metadata": {},
   "outputs": [],
   "source": [
    "n_classes = len(label_map)\n",
    "y_true_bin = label_binarize(y_true, classes=list(range(n_classes)))"
   ]
  },
  {
   "cell_type": "code",
   "execution_count": 43,
   "id": "200bc1a1-ef42-4077-b678-fcb612a6f6b0",
   "metadata": {},
   "outputs": [
    {
     "name": "stderr",
     "output_type": "stream",
     "text": [
      "C:\\Users\\Anisha\\anaconda3\\Lib\\site-packages\\sklearn\\metrics\\_ranking.py:1146: UndefinedMetricWarning: No positive samples in y_true, true positive value should be meaningless\n",
      "  warnings.warn(\n"
     ]
    }
   ],
   "source": [
    "fpr = dict()\n",
    "tpr = dict()\n",
    "roc_auc = dict()\n",
    "\n",
    "for i in range(n_classes):\n",
    "    fpr[i], tpr[i], _ = roc_curve(y_true_bin[:, i], y_score[:, i])\n",
    "    roc_auc[i] = auc(fpr[i], tpr[i])"
   ]
  },
  {
   "cell_type": "code",
   "execution_count": 45,
   "id": "d9c20400-9a87-4e26-9da6-7c9f995b80b6",
   "metadata": {},
   "outputs": [
    {
     "data": {
      "image/png": "[encoded data removed]",
      "text/plain": [
       "<Figure size 1000x700 with 1 Axes>"
      ]
     },
     "metadata": {},
     "output_type": "display_data"
    }
   ],
   "source": [
    "plt.figure(figsize=(10, 7))\n",
    "colors = ['blue', 'green', 'red', 'purple']\n",
    "label_names = ['BJP', 'AAP', 'Congress', 'None']  # Adjust to match label_map\n",
    "\n",
    "for i, color in zip(range(n_classes), colors):\n",
    "    plt.plot(fpr[i], tpr[i], color=color, lw=2,\n",
    "             label=f\"{label_names[i]} (AUC = {roc_auc[i]:.2f})\")\n",
    "\n",
    "plt.plot([0, 1], [0, 1], 'k--', lw=2)\n",
    "plt.xlim([0.0, 1.0])\n",
    "plt.ylim([0.0, 1.05])\n",
    "plt.xlabel('False Positive Rate')\n",
    "plt.ylabel('True Positive Rate')\n",
    "plt.title('Multi-Class ROC Curve')\n",
    "plt.legend(loc=\"lower right\")\n",
    "plt.grid()\n",
    "plt.show()"
   ]
  },
  {
   "cell_type": "code",
   "execution_count": 47,
   "id": "ac7e8880-a080-46d2-9129-339376449f5e",
   "metadata": {},
   "outputs": [
    {
     "name": "stdout",
     "output_type": "stream",
     "text": [
      "              precision    recall  f1-score   support\n",
      "\n",
      "         BJP       0.97      0.88      0.92        65\n",
      "         AAP       0.50      0.86      0.63         7\n",
      "    Congress       0.94      0.97      0.95        31\n",
      "        None       0.00      0.00      0.00         0\n",
      "\n",
      "   micro avg       0.90      0.90      0.90       103\n",
      "   macro avg       0.60      0.68      0.63       103\n",
      "weighted avg       0.93      0.90      0.91       103\n",
      "\n"
     ]
    }
   ],
   "source": [
    "from sklearn.metrics import classification_report\n",
    "\n",
    "# Convert logits to predicted labels\n",
    "y_pred = y_score.argmax(axis=1)  # y_score = preds_output.predictions\n",
    "y_true = predictions.label_ids\n",
    "\n",
    "# Define class mapping\n",
    "labels = [0, 1, 2, 3]\n",
    "class_names = ['BJP', 'AAP', 'Congress', 'None']\n",
    "\n",
    "# Generate and print report\n",
    "report = classification_report(y_true, y_pred, labels=labels, target_names=class_names, zero_division=0)\n",
    "print(report)\n"
   ]
  },
  {
   "cell_type": "code",
   "execution_count": 21,
   "id": "3fea5676-6c30-42fb-a603-442790c4da86",
   "metadata": {},
   "outputs": [],
   "source": [
    "import numpy as np\n",
    "import matplotlib.pyplot as plt\n",
    "from sklearn.metrics import roc_curve, auc\n",
    "from sklearn.preprocessing import label_binarize\n",
    "\n",
    "# === Inputs ===\n",
    "# y_true: true class labels, e.g. [0, 1, 2, 1, 0, 3, ...]\n",
    "# y_score: predicted probabilities/logits from the model (shape: [num_samples, num_classes])\n",
    "\n",
    "# Example:\n",
    "# class_names = ['BJP', 'AAP', 'Congress', 'None']\n",
    "# y_true = [0, 1, 2, 1, 0, 3, 1, 2]  # real labels\n",
    "# y_score = model predictions: probability matrix with shape [n_samples, 4]\n",
    "\n",
    "def plot_multiclass_roc(y_true, y_score, class_names):\n",
    "    n_classes = len(class_names)\n",
    "    y_true_bin = label_binarize(y_true, classes=list(range(n_classes)))\n",
    "\n",
    "    fpr = dict()\n",
    "    tpr = dict()\n",
    "    roc_auc = dict()\n",
    "\n",
    "    for i in range(n_classes):\n",
    "        fpr[i], tpr[i], _ = roc_curve(y_true_bin[:, i], y_score[:, i])\n",
    "        roc_auc[i] = auc(fpr[i], tpr[i])\n",
    "\n",
    "    # Plotting\n",
    "    plt.figure(figsize=(10, 7))\n",
    "    colors = ['blue', 'green', 'red', 'purple']\n",
    "\n",
    "    for i, color in zip(range(n_classes), colors):\n",
    "        plt.plot(fpr[i], tpr[i], color=color, lw=2,\n",
    "                 label=f'{class_names[i]} (AUC = {roc_auc[i]:.2f})')\n",
    "\n",
    "    plt.plot([0, 1], [0, 1], 'k--', lw=2)\n",
    "    plt.xlim([0.0, 1.0])\n",
    "    plt.ylim([0.0, 1.05])\n",
    "    plt.xlabel('False Positive Rate')\n",
    "    plt.ylabel('True Positive Rate')\n",
    "    plt.title('Multi-Class ROC Curve')\n",
    "    plt.legend(loc='lower right')\n",
    "    plt.grid(True)\n",
    "    plt.tight_layout()\n",
    "    plt.show()"
   ]
  },
  {
   "cell_type": "code",
   "execution_count": null,
   "id": "a425fb40-864b-4f57-974b-bd4d87f53d9a",
   "metadata": {},
   "outputs": [],
   "source": []
  },
  {
   "cell_type": "code",
   "execution_count": null,
   "id": "badebe08-53e8-4474-b6b2-7d38b7c0eadc",
   "metadata": {},
   "outputs": [],
   "source": []
  },
  {
   "cell_type": "code",
   "execution_count": 25,
   "id": "d3da2fae-7262-4279-9d19-df2e77d9fd5b",
   "metadata": {},
   "outputs": [],
   "source": [
    "# Binarize the output (One-vs-Rest)\n",
    "n_classes = len(label_map)\n",
    "y_true_bin = label_binarize(y_true, classes=list(range(n_classes)))"
   ]
  },
  {
   "cell_type": "code",
   "execution_count": null,
   "id": "0c0e7753-c86d-4372-88de-eb9e8946e21e",
   "metadata": {},
   "outputs": [],
   "source": []
  },
  {
   "cell_type": "code",
   "execution_count": null,
   "id": "0d6748f5-b0b1-433d-b910-cbf226b23cd5",
   "metadata": {},
   "outputs": [],
   "source": []
  }
 ],
 "metadata": {
  "kernelspec": {
   "display_name": "Python 3 (ipykernel)",
   "language": "python",
   "name": "python3"
  },
  "language_info": {
   "codemirror_mode": {
    "name": "ipython",
    "version": 3
   },
   "file_extension": ".py",
   "mimetype": "text/x-python",
   "name": "python",
   "nbconvert_exporter": "python",
   "pygments_lexer": "ipython3",
   "version": "3.12.4"
  }
 },
 "nbformat": 4,
 "nbformat_minor": 5
}
